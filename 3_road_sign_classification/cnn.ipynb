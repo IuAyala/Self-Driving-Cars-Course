{
 "cells": [
  {
   "cell_type": "code",
   "execution_count": 9,
   "source": [
    "import os\r\n",
    "import numpy as np\r\n",
    "import sklearn\r\n",
    "from sklearn.model_selection import train_test_split\r\n",
    "from pathlib import Path\r\n",
    "import preprocessing\r\n",
    "\r\n",
    "\r\n",
    "current_folder = Path()\r\n",
    "dataset_folder = current_folder / \"dataset\"\r\n",
    "images_folder = dataset_folder / \"images\"\r\n",
    "models_folder = current_folder / \"models\"\r\n",
    "logs_folder = current_folder / \"logs\"\r\n",
    "\r\n",
    "X_train, X_test, y_train, y_test = preprocessing.get_dataset()\r\n",
    "X_train = np.asarray(X_train)\r\n",
    "X_test = np.asarray(X_test)\r\n",
    "y_train = np.asarray(y_train)\r\n",
    "y_test = np.asarray(y_test)"
   ],
   "outputs": [
    {
     "output_type": "stream",
     "name": "stdout",
     "text": [
      "INFO: modified dataset already created\n"
     ]
    }
   ],
   "metadata": {}
  },
  {
   "cell_type": "code",
   "execution_count": 10,
   "source": [
    "np.unique(y_train, return_counts=True)"
   ],
   "outputs": [
    {
     "output_type": "execute_result",
     "data": {
      "text/plain": [
       "(array(['crosswalk', 'speedlimit', 'stop', 'trafficlight'], dtype='<U12'),\n",
       " array([160, 626,  74, 135], dtype=int64))"
      ]
     },
     "metadata": {},
     "execution_count": 10
    }
   ],
   "metadata": {}
  },
  {
   "cell_type": "code",
   "execution_count": 11,
   "source": [
    "from imblearn.over_sampling import SMOTE\r\n",
    "\r\n",
    "X_flat = np.reshape(X_train, (X_train.shape[0], int(np.product(X_train.shape) / X_train.shape[0])))\r\n",
    "\r\n",
    "sm = SMOTE(n_jobs=-1, random_state=42)\r\n",
    "X_train_os, y_train_os = sm.fit_resample(X_flat, y_train)\r\n",
    "\r\n",
    "X_train_os_rs = np.reshape(X_train_os, tuple([X_train_os.shape[0]]) + X_train.shape[1:])\r\n",
    "\r\n",
    "X_train = X_train_os_rs\r\n",
    "y_train = y_train_os"
   ],
   "outputs": [],
   "metadata": {}
  },
  {
   "cell_type": "code",
   "execution_count": 12,
   "source": [
    "np.unique(y_train, return_counts=True)"
   ],
   "outputs": [
    {
     "output_type": "execute_result",
     "data": {
      "text/plain": [
       "(array(['crosswalk', 'speedlimit', 'stop', 'trafficlight'], dtype='<U12'),\n",
       " array([626, 626, 626, 626], dtype=int64))"
      ]
     },
     "metadata": {},
     "execution_count": 12
    }
   ],
   "metadata": {}
  },
  {
   "cell_type": "code",
   "execution_count": 13,
   "source": [
    "# One hot encoding\r\n",
    "label_enc = sklearn.preprocessing.LabelEncoder()\r\n",
    "y_train = label_enc.fit_transform(y_train)\r\n",
    "y_test = label_enc.transform(y_test)\r\n",
    "one_hot = sklearn.preprocessing.OneHotEncoder(sparse=False)\r\n",
    "y_train = one_hot.fit_transform(y_train.reshape(-1, 1))\r\n",
    "y_test = one_hot.transform(y_test.reshape(-1, 1))\r\n",
    "\r\n",
    "X_train, X_valid, y_train, y_valid = train_test_split(\r\n",
    "    X_train, y_train, test_size=0.25, random_state=54\r\n",
    ")"
   ],
   "outputs": [],
   "metadata": {}
  },
  {
   "cell_type": "code",
   "execution_count": 14,
   "source": [
    "print(np.sum(y_train, axis=0) / len(y_train))\r\n",
    "print(np.sum(y_test, axis=0) / len(y_train))"
   ],
   "outputs": [
    {
     "output_type": "stream",
     "name": "stdout",
     "text": [
      "[0.25292865 0.25079872 0.24440895 0.25186368]\n",
      "[0.02129925 0.08359957 0.00905218 0.01863685]\n"
     ]
    }
   ],
   "metadata": {}
  },
  {
   "cell_type": "code",
   "execution_count": 15,
   "source": [
    "import tensorflow as tf\r\n",
    "from tensorflow import keras\r\n",
    "from functools import partial\r\n",
    "\r\n",
    "# Keras model\r\n",
    "DefaultConv2D = partial(\r\n",
    "    keras.layers.Conv2D, kernel_size=3, activation=\"relu\", padding=\"SAME\"\r\n",
    ")\r\n",
    "\r\n",
    "model = keras.Sequential(\r\n",
    "    [\r\n",
    "        DefaultConv2D(\r\n",
    "            filters=64, kernel_size=7, input_shape=list(X_train[0].shape)\r\n",
    "        ),  # was 28, 28, 1\r\n",
    "        keras.layers.MaxPooling2D(pool_size=2),\r\n",
    "        DefaultConv2D(filters=128),\r\n",
    "        DefaultConv2D(filters=128),\r\n",
    "        keras.layers.MaxPooling2D(pool_size=2),\r\n",
    "        DefaultConv2D(filters=256),\r\n",
    "        DefaultConv2D(filters=256),\r\n",
    "        keras.layers.MaxPooling2D(pool_size=2),\r\n",
    "        keras.layers.Flatten(),\r\n",
    "        keras.layers.Dense(units=128, activation=\"relu\"),\r\n",
    "        keras.layers.Dropout(0.2),  # lower less regularization\r\n",
    "        keras.layers.Dense(units=64, activation=\"relu\"),\r\n",
    "        keras.layers.Dropout(0.2),\r\n",
    "        keras.layers.Dense(units=4, activation=\"softmax\"),\r\n",
    "    ]\r\n",
    ")\r\n",
    "\r\n",
    "model.compile(\r\n",
    "    loss=\"categorical_crossentropy\",\r\n",
    "    optimizer=\"sgd\",\r\n",
    "    metrics=[\"accuracy\"],\r\n",
    ")\r\n",
    "\r\n",
    "# loss\r\n",
    "# sparse_categorical_crossentropy used for sparse labels (target class index)\r\n",
    "# categorial_cross_entropy would yield a one-hot vector (only one positive label)\r\n",
    "# mean_squared_error for regression\r\n",
    "\r\n",
    "tensorboard_cb = tf.keras.callbacks.TensorBoard(\r\n",
    "    log_dir=logs_folder,\r\n",
    "    histogram_freq=1,\r\n",
    ")\r\n",
    "early_stopping_cb = tf.keras.callbacks.EarlyStopping(\r\n",
    "    monitor=\"val_loss\",\r\n",
    "    patience=3,\r\n",
    "    restore_best_weights=False,\r\n",
    ")\r\n",
    "\r\n",
    "print(\"Start training\")\r\n",
    "history = model.fit(\r\n",
    "    X_train,\r\n",
    "    y_train,\r\n",
    "    epochs=500,\r\n",
    "    validation_data=(X_valid, y_valid),\r\n",
    "    callbacks=[tensorboard_cb, early_stopping_cb],\r\n",
    ")\r\n",
    "\r\n",
    "# Save model\r\n",
    "os.makedirs(models_folder, exist_ok=True)\r\n",
    "model.save(models_folder / \"model1.h5\")"
   ],
   "outputs": [
    {
     "output_type": "stream",
     "name": "stdout",
     "text": [
      "Start training\n",
      "Epoch 1/500\n",
      "59/59 [==============================] - 11s 78ms/step - loss: 1.3278 - accuracy: 0.4404 - val_loss: 1.1026 - val_accuracy: 0.7077\n",
      "Epoch 2/500\n",
      "59/59 [==============================] - 3s 52ms/step - loss: 0.9141 - accuracy: 0.6539 - val_loss: 0.4639 - val_accuracy: 0.8482\n",
      "Epoch 3/500\n",
      "59/59 [==============================] - 3s 53ms/step - loss: 0.4921 - accuracy: 0.8429 - val_loss: 0.1791 - val_accuracy: 0.9601\n",
      "Epoch 4/500\n",
      "59/59 [==============================] - 3s 51ms/step - loss: 0.3115 - accuracy: 0.9116 - val_loss: 0.6147 - val_accuracy: 0.7875\n",
      "Epoch 5/500\n",
      "59/59 [==============================] - 3s 52ms/step - loss: 0.2496 - accuracy: 0.9239 - val_loss: 0.1635 - val_accuracy: 0.9601\n",
      "Epoch 6/500\n",
      "59/59 [==============================] - 3s 50ms/step - loss: 0.1878 - accuracy: 0.9510 - val_loss: 0.1672 - val_accuracy: 0.9601\n",
      "Epoch 7/500\n",
      "59/59 [==============================] - 3s 50ms/step - loss: 0.1174 - accuracy: 0.9681 - val_loss: 0.0914 - val_accuracy: 0.9744\n",
      "Epoch 8/500\n",
      "59/59 [==============================] - 3s 49ms/step - loss: 0.0920 - accuracy: 0.9707 - val_loss: 0.0929 - val_accuracy: 0.9776\n",
      "Epoch 9/500\n",
      "59/59 [==============================] - 3s 55ms/step - loss: 0.0714 - accuracy: 0.9798 - val_loss: 0.0598 - val_accuracy: 0.9808\n",
      "Epoch 10/500\n",
      "59/59 [==============================] - 3s 54ms/step - loss: 0.0589 - accuracy: 0.9862 - val_loss: 0.0670 - val_accuracy: 0.9824\n",
      "Epoch 11/500\n",
      "59/59 [==============================] - 3s 53ms/step - loss: 0.0632 - accuracy: 0.9782 - val_loss: 0.0347 - val_accuracy: 0.9872\n",
      "Epoch 12/500\n",
      "59/59 [==============================] - 3s 55ms/step - loss: 0.0431 - accuracy: 0.9867 - val_loss: 0.1178 - val_accuracy: 0.9601\n",
      "Epoch 13/500\n",
      "59/59 [==============================] - 3s 51ms/step - loss: 0.0389 - accuracy: 0.9894 - val_loss: 0.1096 - val_accuracy: 0.9665\n",
      "Epoch 14/500\n",
      "59/59 [==============================] - 3s 51ms/step - loss: 0.0397 - accuracy: 0.9862 - val_loss: 0.0654 - val_accuracy: 0.9840\n"
     ]
    }
   ],
   "metadata": {}
  },
  {
   "cell_type": "code",
   "execution_count": 16,
   "source": [
    "# Evaluate per class\r\n",
    "y_pred = model.predict(X_test)\r\n",
    "Y_pred = np.argmax(y_pred, axis=1)  # one-hot to index\r\n",
    "Y_test = np.argmax(y_test, axis=1)\r\n",
    "print(\r\n",
    "    sklearn.metrics.classification_report(\r\n",
    "        Y_test, Y_pred, target_names=label_enc.classes_\r\n",
    "    )\r\n",
    ")\r\n",
    "\r\n",
    "# Evaluate general\r\n",
    "test_results = model.evaluate(X_test, y_test)  # loss and metrics\r\n",
    "print(f\"Test Data - Loss: {test_results[0]:.3f}, Metrics: {test_results[1:]}\")"
   ],
   "outputs": [
    {
     "output_type": "stream",
     "name": "stdout",
     "text": [
      "              precision    recall  f1-score   support\n",
      "\n",
      "   crosswalk       0.93      0.93      0.93        40\n",
      "  speedlimit       0.98      1.00      0.99       157\n",
      "        stop       0.94      0.94      0.94        17\n",
      "trafficlight       0.97      0.86      0.91        35\n",
      "\n",
      "    accuracy                           0.96       249\n",
      "   macro avg       0.95      0.93      0.94       249\n",
      "weighted avg       0.96      0.96      0.96       249\n",
      "\n",
      "8/8 [==============================] - 0s 16ms/step - loss: 0.2316 - accuracy: 0.9639\n",
      "Test Data - Loss: 0.232, Metrics: [0.9638554453849792]\n"
     ]
    }
   ],
   "metadata": {}
  },
  {
   "cell_type": "code",
   "execution_count": null,
   "source": [],
   "outputs": [],
   "metadata": {}
  }
 ],
 "metadata": {
  "orig_nbformat": 4,
  "language_info": {
   "name": "python",
   "version": "3.9.1",
   "mimetype": "text/x-python",
   "codemirror_mode": {
    "name": "ipython",
    "version": 3
   },
   "pygments_lexer": "ipython3",
   "nbconvert_exporter": "python",
   "file_extension": ".py"
  },
  "kernelspec": {
   "name": "python3",
   "display_name": "Python 3.9.1 64-bit ('ml': virtualenv)"
  },
  "interpreter": {
   "hash": "b687fa8d2924685de702f443b26f867ddb7d5902d1e0ebebe4df1af7eecd6ed1"
  }
 },
 "nbformat": 4,
 "nbformat_minor": 2
}