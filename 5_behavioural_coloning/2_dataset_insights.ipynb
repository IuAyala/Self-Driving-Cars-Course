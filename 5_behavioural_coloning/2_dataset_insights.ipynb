{
 "cells": [
  {
   "cell_type": "code",
   "execution_count": null,
   "metadata": {},
   "outputs": [],
   "source": [
    "import importlib\n",
    "train = importlib.import_module(\"3_train\")\n",
    "train_reg = importlib.import_module(\"3_train_reg\")\n",
    "# import train\n",
    "import matplotlib.pyplot as plt\n",
    "import numpy as np\n",
    "from pathlib import Path\n",
    "%matplotlib inline\n",
    "\n",
    "current_folder = Path(\"\")\n",
    "dataset_folder = current_folder / \"dataset\"\n",
    "images_folder = dataset_folder / \"images\"\n",
    "models_folder = current_folder / \"models\"\n",
    "\n",
    "X_train, X_test, y_train, y_test = train_reg.load_dataset(dataset_folder)\n",
    "#X_train, X_test, y_train, y_test = train.load_dataset(dataset_folder)"
   ]
  },
  {
   "cell_type": "code",
   "execution_count": null,
   "metadata": {},
   "outputs": [],
   "source": [
    "def print_class(y):\n",
    "    if y.shape[1] == 1:\n",
    "        print(f\"Left {np.sum(y == -0.25) / len(y):.2f} Straight {np.sum(y == 0.0) / len(y):.2f} Right {np.sum(y == 0.25) / len(y):.2f}\")\n",
    "        print(f\"Left {np.sum(y == -0.25)} Straight {np.sum(y == 0.0)} Right {np.sum(y == 0.25)} Total {len(y)}\")\n",
    "    else:\n",
    "        l_sum, s_sum, r_sum = np.sum(y, axis=0)\n",
    "        print(f\"Left {l_sum/len(y):.2f} Straight {s_sum/len(y):.2f} Right {r_sum/len(y):.2f}\")\n",
    "        print(f\"Left {l_sum} Straight {s_sum} Right {r_sum}\")\n",
    "\n",
    "print_class(y_train)\n"
   ]
  },
  {
   "cell_type": "code",
   "execution_count": null,
   "metadata": {},
   "outputs": [],
   "source": [
    "plt.hist(y_train)\n",
    "plt.show()"
   ]
  },
  {
   "cell_type": "code",
   "execution_count": null,
   "metadata": {},
   "outputs": [],
   "source": [
    "# Balance\n",
    "from imblearn.over_sampling import SMOTE\n",
    "from sklearn.preprocessing import LabelEncoder\n",
    "\n",
    "le = LabelEncoder()\n",
    "y_train_enc = le.fit_transform(y_train)\n",
    "\n",
    "X_flat = np.reshape(X_train, (X_train.shape[0], int(np.product(X_train.shape) / X_train.shape[0])))\n",
    "\n",
    "smote = SMOTE(n_jobs=-1)\n",
    "X_train_os, y_train_os = smote.fit_resample(X_flat, y_train_enc)\n",
    "\n",
    "X_train_os_rs = np.reshape(X_train_os, tuple([X_train_os.shape[0]]) + X_train.shape[1:])\n",
    "\n",
    "plt.hist(y_train_os)\n",
    "\n",
    "#print_class(y_train_os)"
   ]
  },
  {
   "cell_type": "code",
   "execution_count": null,
   "metadata": {},
   "outputs": [],
   "source": [
    "import cv2\n",
    "\n",
    "def get_image(index):\n",
    "    image = X_train_os_rs[index]\n",
    "    image_rgb = cv2.cvtColor(image, cv2.COLOR_BGR2RGB)\n",
    "    return image_rgb\n",
    "\n",
    "image_rgb = get_image(30000) \n",
    "\n",
    "plt.axis(\"off\")\n",
    "plt.imshow(image_rgb)"
   ]
  },
  {
   "cell_type": "code",
   "execution_count": null,
   "metadata": {},
   "outputs": [],
   "source": [
    "plt.rcParams['figure.figsize'] = [15, 12]\n",
    "\n",
    "def plot_images(indexes):\n",
    "    n = len(indexes)\n",
    "    cols = 3\n",
    "    rows = int(np.ceil(n / cols))\n",
    "    print(\"rows\", rows, \"cols\", cols)\n",
    "    f, axarr = plt.subplots(rows, cols)\n",
    "    for i, index in enumerate(indexes):\n",
    "        r, c = int(np.floor(i / cols)), int(i % cols)\n",
    "        axarr[r, c].imshow(get_image(index))\n",
    "        axarr[r, c].axis(\"off\")\n",
    "\n",
    "# Greater than 23762 are generate by SMOTE\n",
    "plot_images(list(range(23763, 23775)))"
   ]
  },
  {
   "cell_type": "code",
   "execution_count": null,
   "metadata": {},
   "outputs": [],
   "source": [
    "plot_images(list(range(24763, 24775)))"
   ]
  },
  {
   "cell_type": "code",
   "execution_count": null,
   "metadata": {},
   "outputs": [],
   "source": [
    "np.sum(X_train_os_rs[:23762] == X_train) / 64 / 128 / 3"
   ]
  },
  {
   "cell_type": "code",
   "execution_count": null,
   "metadata": {},
   "outputs": [],
   "source": [
    "plt.plot(y_train_os[23762:]) # sorted"
   ]
  },
  {
   "cell_type": "code",
   "execution_count": null,
   "metadata": {},
   "outputs": [],
   "source": []
  }
 ],
 "metadata": {
  "interpreter": {
   "hash": "b687fa8d2924685de702f443b26f867ddb7d5902d1e0ebebe4df1af7eecd6ed1"
  },
  "kernelspec": {
   "display_name": "Python 3.9.1 64-bit ('ml': virtualenv)",
   "name": "python3"
  },
  "language_info": {
   "codemirror_mode": {
    "name": "ipython",
    "version": 3
   },
   "file_extension": ".py",
   "mimetype": "text/x-python",
   "name": "python",
   "nbconvert_exporter": "python",
   "pygments_lexer": "ipython3",
   "version": "3.11.6"
  },
  "orig_nbformat": 4
 },
 "nbformat": 4,
 "nbformat_minor": 2
}
